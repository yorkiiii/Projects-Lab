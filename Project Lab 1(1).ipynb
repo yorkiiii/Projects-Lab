{
 "cells": [
  {
   "cell_type": "code",
   "execution_count": 63,
   "metadata": {
    "scrolled": true
   },
   "outputs": [],
   "source": [
    "import pandas as pd\n",
    "import numpy as np\n",
    "import matplotlib.pyplot as plt\n",
    "from scipy.optimize import curve_fit\n",
    "import pandas as pd"
   ]
  },
  {
   "cell_type": "code",
   "execution_count": 2,
   "metadata": {
    "scrolled": true
   },
   "outputs": [],
   "source": [
    "water_one = pd.read_csv('Water V 1.txt',sep = \" \")\n",
    "water_two = pd.read_csv('Water V 2.txt',sep = \" \")\n",
    "water_three = pd.read_csv('Water V 3.txt',sep = \" \")\n",
    "water_four = pd.read_csv('Water V 4.txt',sep=\" \")\n",
    "die_water = pd.read_csv('Die Water V 1.txt',sep=\" \")\n",
    "paper_water_one = pd.read_csv('Water V Paper 1.txt',sep=\" \")\n",
    "paper_water_two = pd.read_csv('Water Paper V 2.txt',sep=\" \")\n",
    "syrup_125_1 = pd.read_csv('12.5 V 1.txt',sep=\" \")\n",
    "syrup_125_2 = pd.read_csv('12.5 V 2.txt',sep=\" \")\n",
    "syrup_125_3 = pd.read_csv('12.5 V 3.txt',sep=\" \")\n",
    "syrup_25_1 = pd.read_csv('25 V 1.txt',sep=\" \")\n",
    "syrup_25_2 = pd.read_csv('25 V 2.txt',sep=\" \")\n",
    "syrup_25_3 = pd.read_csv('25 V 3.txt',sep=\" \")\n",
    "syrup_50_1 = pd.read_csv('50 V 1.txt',sep=\" \")\n",
    "syrup_50_2 = pd.read_csv('50 V 2.txt',sep=\" \")\n",
    "syrup_50_3 = pd.read_csv('50 V 3.txt',sep=\" \")"
   ]
  },
  {
   "cell_type": "code",
   "execution_count": 3,
   "metadata": {
    "scrolled": true
   },
   "outputs": [],
   "source": [
    "#Here is all of the tube test data\n",
    "\n",
    "time_water = pd.DataFrame([0.366,0.381,0.368,0.367,0.380])\n",
    "time_125 = pd.DataFrame([0.396,0.396,0.397,0.397,0.381])\n",
    "time_25 = pd.DataFrame([0.426,0.442,0.456,0.442,0.458])\n",
    "time_50 = pd.DataFrame([0.655,0.671,0.654,0.668,0.656])\n",
    "time_375 = pd.DataFrame([0.518,0.533,0.518])\n",
    "full_tube_V = 0.014 #14 mL without ball\n",
    "angle = 60 #60 degree angle\n",
    "mass_ball = 0.0083645 #mass of ball in kg\n",
    "dens_ball = 7890 #kg/m^3 density of ball 7890\n",
    "length_tube = 0.04 #length of tube is 0.04 m\n",
    "dens_corn_syrup = 1400 #kg/m^3\n",
    "dens_water = 1000 #kg/^3\n",
    "dens_125 = (1400*0.125) + (1000*0.875)\n",
    "dens_25 = (1400*0.25) + (1000*0.75)\n",
    "dens_50 = (1400*0.5) + (1000*0.5)\n",
    "dens_375 = (1400*0.375) + (1000*0.625)\n",
    "r_ball = 0.006325 #radius in m\n",
    "d_ball = r_ball *2\n",
    "d_tube = d_ball + 0.001 #this is gotten from the K factor being 10^-5"
   ]
  },
  {
   "cell_type": "code",
   "execution_count": 68,
   "metadata": {
    "scrolled": true
   },
   "outputs": [],
   "source": [
    "def velocity(lst,empt_lst):\n",
    "    for i in lst[0]:\n",
    "        v = length_tube/i\n",
    "        empt_lst.append(v)\n",
    "    return empt_lst\n",
    "\n",
    "def viscosity(lst,empt_lst,dens):\n",
    "    K = 1.4202*10**-5#10**-3\n",
    "    lst_df = pd.DataFrame(lst)\n",
    "    for i in lst_df[0]:\n",
    "        #visc = (2*(dens_ball - dens)*9.81*(r_ball**2)) / (i *9)\n",
    "        #visc = ((r_ball*2)**2 * (dens_ball - dens)*(np.sin(np.deg2rad(60))*9.81)*(1/i))/18\n",
    "        visc = (np.pi*(5/42))*K*((((r_ball*2)**2)*dens*9.81*np.sin(np.deg2rad(60)))/i)*((dens_ball-dens)/dens)*((d_ball+d_tube)/d_ball)\n",
    "        empt_lst.append(visc)\n",
    "    return empt_lst\n",
    "\n",
    "#eq 13 used above\n",
    "\n",
    "def reynolds(vel,vis,empt_lst,dens,empt_lst_2):\n",
    "    #now for resistance factor\n",
    "    R = (5/7)*9.81*np.sin(np.deg2rad(60))*((np.pi*d_ball**3)/6)*(dens_ball-dens) #eq 8\n",
    "    for i in range(len(vel)):\n",
    "        reyn = (vel[i]*dens*(d_tube-d_ball))/vis[i]\n",
    "        #table 2 eq\n",
    "        f = R/(((d_tube-d_ball)**2)*dens_ball*(vel[i]**2))\n",
    "        empt_lst.append(reyn)\n",
    "        empt_lst_2.append(f)\n",
    "        \n",
    "def froude_each(vel,empt_lst):\n",
    "    for i in range(len(vel)):\n",
    "        froude = vel[i]/(9.81*d_tube-d_ball)\n",
    "        empt_lst.append(froude)\n",
    "        \n",
    "        \n",
    "    \n",
    "vel_water = []\n",
    "vel_125 = []\n",
    "vel_25 = []\n",
    "vel_50 = []\n",
    "vel_375 = []\n",
    "\n",
    "vis_water = []\n",
    "vis_125 = []\n",
    "vis_25 = []\n",
    "vis_50 = []\n",
    "vis_375 = []\n",
    "\n",
    "rey_water = []\n",
    "rey_125 = []\n",
    "rey_25 = []\n",
    "rey_50 = []\n",
    "rey_375 = []\n",
    "\n",
    "res_fac_w = []\n",
    "res_fac_125 = []\n",
    "res_fac_25 = []\n",
    "res_fac_50 = []\n",
    "res_fac_375 = []\n",
    "\n",
    "fr_w = []\n",
    "fr_125 = []\n",
    "fr_25 = []\n",
    "fr_50 = []\n",
    "fr_375 = []\n",
    "\n",
    "vel_water = velocity(time_water,vel_water)\n",
    "vel_125 = velocity(time_125,vel_125)\n",
    "vel_25 = velocity(time_25,vel_25)\n",
    "vel_50 = velocity(time_50,vel_50)\n",
    "vel_375 = velocity(time_375,vel_375)\n",
    "\n",
    "visc_water = viscosity(vel_water,vis_water,dens_water)\n",
    "visc_125 = viscosity(vel_125,vis_125,dens_125)\n",
    "visc_25 = viscosity(vel_25,vis_25,dens_25)\n",
    "visc_50 = viscosity(vel_50,vis_50,dens_50)\n",
    "visc_375 = viscosity(vel_375,vis_375,dens_375)\n",
    "\n",
    "re_water = reynolds(vel_water,vis_water,rey_water,dens_water,res_fac_w)\n",
    "re_125 = reynolds(vel_125,vis_125,rey_125,dens_125,res_fac_125)\n",
    "re_25 = reynolds(vel_125,vis_125,rey_125,dens_125,res_fac_25)\n",
    "re_50 = reynolds(vel_50,vis_50,rey_50,dens_50,res_fac_50)\n",
    "re_375 = reynolds(vel_375,vis_375,rey_375,dens_375,res_fac_375)\n",
    "\n",
    "fro_w = froude_each(vel_water,fr_w)\n",
    "fro_125 = froude_each(vel_125,fr_125)\n",
    "fro_25 = froude_each(vel_25,fr_25)\n",
    "fro_50 = froude_each(vel_50,fr_50)\n",
    "fro_375 = froude_each(vel_375,fr_375)\n",
    "\n",
    "\n",
    "\n"
   ]
  },
  {
   "cell_type": "code",
   "execution_count": 69,
   "metadata": {
    "scrolled": true
   },
   "outputs": [],
   "source": [
    "vel_all = vel_water + vel_125 + vel_25 + vel_375 + vel_50 \n",
    "re_all = rey_water + rey_125 + rey_25 + rey_375 + rey_50 \n",
    "vis_all = vis_water + vis_125 + vis_25 + vis_375 + vis_50 \n",
    "res_fac_all = res_fac_w + res_fac_125 + res_fac_25 +res_fac_375 + res_fac_50 \n",
    "fr_all = fr_w + fr_125 + fr_25 + fr_375 + fr_50 "
   ]
  },
  {
   "cell_type": "code",
   "execution_count": 70,
   "metadata": {},
   "outputs": [
    {
     "data": {
      "text/html": [
       "<div>\n",
       "<style scoped>\n",
       "    .dataframe tbody tr th:only-of-type {\n",
       "        vertical-align: middle;\n",
       "    }\n",
       "\n",
       "    .dataframe tbody tr th {\n",
       "        vertical-align: top;\n",
       "    }\n",
       "\n",
       "    .dataframe thead th {\n",
       "        text-align: right;\n",
       "    }\n",
       "</style>\n",
       "<table border=\"1\" class=\"dataframe\">\n",
       "  <thead>\n",
       "    <tr style=\"text-align: right;\">\n",
       "      <th></th>\n",
       "      <th>velocity (m/s)</th>\n",
       "      <th>viscosity (N*s/m^2)</th>\n",
       "      <th>resistance factor</th>\n",
       "      <th>reynolds number</th>\n",
       "      <th>froudes number</th>\n",
       "    </tr>\n",
       "  </thead>\n",
       "  <tbody>\n",
       "    <tr>\n",
       "      <th>0</th>\n",
       "      <td>0.109290</td>\n",
       "      <td>0.000946</td>\n",
       "      <td>470.247190</td>\n",
       "      <td>115.470908</td>\n",
       "      <td>0.901309</td>\n",
       "    </tr>\n",
       "    <tr>\n",
       "      <th>1</th>\n",
       "      <td>0.104987</td>\n",
       "      <td>0.000985</td>\n",
       "      <td>509.581895</td>\n",
       "      <td>106.557691</td>\n",
       "      <td>0.865825</td>\n",
       "    </tr>\n",
       "    <tr>\n",
       "      <th>2</th>\n",
       "      <td>0.108696</td>\n",
       "      <td>0.000952</td>\n",
       "      <td>475.400545</td>\n",
       "      <td>114.219200</td>\n",
       "      <td>0.896411</td>\n",
       "    </tr>\n",
       "    <tr>\n",
       "      <th>3</th>\n",
       "      <td>0.108992</td>\n",
       "      <td>0.000949</td>\n",
       "      <td>472.820357</td>\n",
       "      <td>114.842496</td>\n",
       "      <td>0.898853</td>\n",
       "    </tr>\n",
       "    <tr>\n",
       "      <th>4</th>\n",
       "      <td>0.105263</td>\n",
       "      <td>0.000983</td>\n",
       "      <td>506.910435</td>\n",
       "      <td>107.119259</td>\n",
       "      <td>0.868103</td>\n",
       "    </tr>\n",
       "    <tr>\n",
       "      <th>5</th>\n",
       "      <td>0.101010</td>\n",
       "      <td>0.001017</td>\n",
       "      <td>546.501414</td>\n",
       "      <td>104.327019</td>\n",
       "      <td>0.833028</td>\n",
       "    </tr>\n",
       "    <tr>\n",
       "      <th>6</th>\n",
       "      <td>0.101010</td>\n",
       "      <td>0.001017</td>\n",
       "      <td>546.501414</td>\n",
       "      <td>104.327019</td>\n",
       "      <td>0.833028</td>\n",
       "    </tr>\n",
       "    <tr>\n",
       "      <th>7</th>\n",
       "      <td>0.100756</td>\n",
       "      <td>0.001019</td>\n",
       "      <td>549.265007</td>\n",
       "      <td>103.802104</td>\n",
       "      <td>0.830930</td>\n",
       "    </tr>\n",
       "    <tr>\n",
       "      <th>8</th>\n",
       "      <td>0.100756</td>\n",
       "      <td>0.001019</td>\n",
       "      <td>549.265007</td>\n",
       "      <td>103.802104</td>\n",
       "      <td>0.830930</td>\n",
       "    </tr>\n",
       "    <tr>\n",
       "      <th>9</th>\n",
       "      <td>0.104987</td>\n",
       "      <td>0.000978</td>\n",
       "      <td>505.883913</td>\n",
       "      <td>112.703453</td>\n",
       "      <td>0.865825</td>\n",
       "    </tr>\n",
       "    <tr>\n",
       "      <th>10</th>\n",
       "      <td>0.093897</td>\n",
       "      <td>0.001086</td>\n",
       "      <td>546.501414</td>\n",
       "      <td>104.327019</td>\n",
       "      <td>0.774364</td>\n",
       "    </tr>\n",
       "    <tr>\n",
       "      <th>11</th>\n",
       "      <td>0.090498</td>\n",
       "      <td>0.001126</td>\n",
       "      <td>546.501414</td>\n",
       "      <td>104.327019</td>\n",
       "      <td>0.746333</td>\n",
       "    </tr>\n",
       "    <tr>\n",
       "      <th>12</th>\n",
       "      <td>0.087719</td>\n",
       "      <td>0.001162</td>\n",
       "      <td>549.265007</td>\n",
       "      <td>103.802104</td>\n",
       "      <td>0.723419</td>\n",
       "    </tr>\n",
       "    <tr>\n",
       "      <th>13</th>\n",
       "      <td>0.090498</td>\n",
       "      <td>0.001126</td>\n",
       "      <td>549.265007</td>\n",
       "      <td>103.802104</td>\n",
       "      <td>0.746333</td>\n",
       "    </tr>\n",
       "    <tr>\n",
       "      <th>14</th>\n",
       "      <td>0.087336</td>\n",
       "      <td>0.001167</td>\n",
       "      <td>505.883913</td>\n",
       "      <td>112.703453</td>\n",
       "      <td>0.720260</td>\n",
       "    </tr>\n",
       "    <tr>\n",
       "      <th>15</th>\n",
       "      <td>0.077220</td>\n",
       "      <td>0.001310</td>\n",
       "      <td>921.433998</td>\n",
       "      <td>67.769206</td>\n",
       "      <td>0.636832</td>\n",
       "    </tr>\n",
       "    <tr>\n",
       "      <th>16</th>\n",
       "      <td>0.075047</td>\n",
       "      <td>0.001348</td>\n",
       "      <td>975.571559</td>\n",
       "      <td>64.008478</td>\n",
       "      <td>0.618910</td>\n",
       "    </tr>\n",
       "    <tr>\n",
       "      <th>17</th>\n",
       "      <td>0.077220</td>\n",
       "      <td>0.001310</td>\n",
       "      <td>921.433998</td>\n",
       "      <td>67.769206</td>\n",
       "      <td>0.636832</td>\n",
       "    </tr>\n",
       "    <tr>\n",
       "      <th>18</th>\n",
       "      <td>0.061069</td>\n",
       "      <td>0.001645</td>\n",
       "      <td>1462.357424</td>\n",
       "      <td>44.558083</td>\n",
       "      <td>0.503632</td>\n",
       "    </tr>\n",
       "    <tr>\n",
       "      <th>19</th>\n",
       "      <td>0.059613</td>\n",
       "      <td>0.001685</td>\n",
       "      <td>1534.673431</td>\n",
       "      <td>42.458443</td>\n",
       "      <td>0.491623</td>\n",
       "    </tr>\n",
       "    <tr>\n",
       "      <th>20</th>\n",
       "      <td>0.061162</td>\n",
       "      <td>0.001642</td>\n",
       "      <td>1457.895619</td>\n",
       "      <td>44.694451</td>\n",
       "      <td>0.504402</td>\n",
       "    </tr>\n",
       "    <tr>\n",
       "      <th>21</th>\n",
       "      <td>0.059880</td>\n",
       "      <td>0.001677</td>\n",
       "      <td>1520.981246</td>\n",
       "      <td>42.840662</td>\n",
       "      <td>0.493831</td>\n",
       "    </tr>\n",
       "    <tr>\n",
       "      <th>22</th>\n",
       "      <td>0.060976</td>\n",
       "      <td>0.001647</td>\n",
       "      <td>1466.826046</td>\n",
       "      <td>44.422339</td>\n",
       "      <td>0.502865</td>\n",
       "    </tr>\n",
       "  </tbody>\n",
       "</table>\n",
       "</div>"
      ],
      "text/plain": [
       "    velocity (m/s)  viscosity (N*s/m^2)  resistance factor  reynolds number  \\\n",
       "0         0.109290             0.000946         470.247190       115.470908   \n",
       "1         0.104987             0.000985         509.581895       106.557691   \n",
       "2         0.108696             0.000952         475.400545       114.219200   \n",
       "3         0.108992             0.000949         472.820357       114.842496   \n",
       "4         0.105263             0.000983         506.910435       107.119259   \n",
       "5         0.101010             0.001017         546.501414       104.327019   \n",
       "6         0.101010             0.001017         546.501414       104.327019   \n",
       "7         0.100756             0.001019         549.265007       103.802104   \n",
       "8         0.100756             0.001019         549.265007       103.802104   \n",
       "9         0.104987             0.000978         505.883913       112.703453   \n",
       "10        0.093897             0.001086         546.501414       104.327019   \n",
       "11        0.090498             0.001126         546.501414       104.327019   \n",
       "12        0.087719             0.001162         549.265007       103.802104   \n",
       "13        0.090498             0.001126         549.265007       103.802104   \n",
       "14        0.087336             0.001167         505.883913       112.703453   \n",
       "15        0.077220             0.001310         921.433998        67.769206   \n",
       "16        0.075047             0.001348         975.571559        64.008478   \n",
       "17        0.077220             0.001310         921.433998        67.769206   \n",
       "18        0.061069             0.001645        1462.357424        44.558083   \n",
       "19        0.059613             0.001685        1534.673431        42.458443   \n",
       "20        0.061162             0.001642        1457.895619        44.694451   \n",
       "21        0.059880             0.001677        1520.981246        42.840662   \n",
       "22        0.060976             0.001647        1466.826046        44.422339   \n",
       "\n",
       "    froudes number  \n",
       "0         0.901309  \n",
       "1         0.865825  \n",
       "2         0.896411  \n",
       "3         0.898853  \n",
       "4         0.868103  \n",
       "5         0.833028  \n",
       "6         0.833028  \n",
       "7         0.830930  \n",
       "8         0.830930  \n",
       "9         0.865825  \n",
       "10        0.774364  \n",
       "11        0.746333  \n",
       "12        0.723419  \n",
       "13        0.746333  \n",
       "14        0.720260  \n",
       "15        0.636832  \n",
       "16        0.618910  \n",
       "17        0.636832  \n",
       "18        0.503632  \n",
       "19        0.491623  \n",
       "20        0.504402  \n",
       "21        0.493831  \n",
       "22        0.502865  "
      ]
     },
     "execution_count": 70,
     "metadata": {},
     "output_type": "execute_result"
    }
   ],
   "source": [
    "#now make a dataframe with all of these values\n",
    "data = pd.DataFrame({\n",
    "    'velocity (m/s)':vel_all,\n",
    "    'viscosity (N*s/m^2)':vis_all,\n",
    "    'resistance factor':res_fac_all,\n",
    "    'reynolds number':re_all,\n",
    "    'froudes number':fr_all\n",
    "})\n",
    "data"
   ]
  },
  {
   "cell_type": "markdown",
   "metadata": {},
   "source": [
    "## Reynolds vs Driving Force"
   ]
  },
  {
   "cell_type": "code",
   "execution_count": 58,
   "metadata": {},
   "outputs": [
    {
     "data": {
      "text/plain": [
       "[<matplotlib.lines.Line2D at 0x1fddf60cc40>]"
      ]
     },
     "execution_count": 58,
     "metadata": {},
     "output_type": "execute_result"
    },
    {
     "data": {
      "image/png": "[encoded data removed]",
      "text/plain": [
       "<Figure size 432x288 with 1 Axes>"
      ]
     },
     "metadata": {
      "needs_background": "light"
     },
     "output_type": "display_data"
    }
   ],
   "source": [
    "plt.plot(re_all,res_fac_all,'c*')\n",
    "#plt.plot(re_all,vis_all,'c*')"
   ]
  },
  {
   "cell_type": "markdown",
   "metadata": {},
   "source": [
    "The plot above looks alot like Figure 2 within the 1942 paper"
   ]
  },
  {
   "cell_type": "code",
   "execution_count": 8,
   "metadata": {},
   "outputs": [
    {
     "data": {
      "text/plain": [
       "array([1.47426677e-05])"
      ]
     },
     "execution_count": 8,
     "metadata": {},
     "output_type": "execute_result"
    }
   ],
   "source": [
    "#finding K using linear regression least squares\n",
    "#from water viscosity know as 1*10**-3 N*s/m^2 \n",
    "\n",
    "def func(vel_water,K):\n",
    "    visc = (np.pi*(5/42))*K*((((r_ball*2)**2)*dens_water*9.81*np.sin(np.deg2rad(60)))/vel_water)*((dens_ball-dens_water)/dens_water)*((d_ball+d_tube)/d_ball)\n",
    "    return visc\n",
    "\n",
    "visc = [1*10**-3,1*10**-3,1*10**-3,1*10**-3,1*10**-3]\n",
    "initial_guess = [0.00004]\n",
    "pars, pcov = curve_fit(func,vel_water,visc,p0=initial_guess)\n",
    "pars"
   ]
  },
  {
   "cell_type": "code",
   "execution_count": 53,
   "metadata": {},
   "outputs": [
    {
     "name": "stdout",
     "output_type": "stream",
     "text": [
      "            2\n",
      "-2.489e+06 x - 9.454e+04 x + 206.5\n"
     ]
    },
    {
     "data": {
      "image/png": "[encoded data removed]",
      "text/plain": [
       "<Figure size 432x288 with 1 Axes>"
      ]
     },
     "metadata": {
      "needs_background": "light"
     },
     "output_type": "display_data"
    }
   ],
   "source": [
    "b, pcov = np.polyfit(vis_all, re_all, 2, cov=True)\n",
    "p = np.poly1d(b)\n",
    "xs = np.linspace(0.00075, 0.002, 100)\n",
    "ys = p(xs)\n",
    "\n",
    "plt.plot(vis_all,re_all,'c*',label='Experimental values')\n",
    "plt.plot(xs,ys,'r-',label='Fit line: 4.115e-08 x^2 - 0.000212 x + 0.2756')\n",
    "plt.xlabel('Viscocity (N*s/m^2)')\n",
    "plt.ylabel('Reynolds number')\n",
    "plt.title('Reynolds number vs Viscocity')\n",
    "plt.legend(loc='upper right')\n",
    "print(p)"
   ]
  },
  {
   "cell_type": "code",
   "execution_count": 9,
   "metadata": {
    "scrolled": true
   },
   "outputs": [
    {
     "name": "stdout",
     "output_type": "stream",
     "text": [
      "[0.0009464688475537894, 0.000985258554420748, 0.0009516408084693838, 0.0009490548280115868, 0.000982672573962951]\n"
     ]
    }
   ],
   "source": [
    "print(vis_water)"
   ]
  },
  {
   "cell_type": "code",
   "execution_count": 10,
   "metadata": {
    "scrolled": true
   },
   "outputs": [
    {
     "name": "stdout",
     "output_type": "stream",
     "text": [
      "[0.0010856388843827032, 0.0011264140537491898, 0.0011620923269448657, 0.0011264140537491898, 0.0011671892231156762]\n"
     ]
    }
   ],
   "source": [
    "print(vis_25)"
   ]
  },
  {
   "cell_type": "code",
   "execution_count": 11,
   "metadata": {
    "scrolled": true
   },
   "outputs": [
    {
     "name": "stdout",
     "output_type": "stream",
     "text": [
      "[0.0016446497920238915, 0.0016848244434321087, 0.0016421388763108778, 0.0016772916962930681, 0.0016471607077369048]\n"
     ]
    }
   ],
   "source": [
    "print(vis_50)"
   ]
  },
  {
   "cell_type": "markdown",
   "metadata": {},
   "source": [
    "## Froude Plotting"
   ]
  },
  {
   "cell_type": "code",
   "execution_count": 54,
   "metadata": {
    "scrolled": true
   },
   "outputs": [],
   "source": [
    "#this is for average froude\n",
    "def Froude(vel):\n",
    "    s = sum(vel)/len(vel)\n",
    "    fr = s/(9.81*r_ball*2)**(1/2)\n",
    "    return fr, s\n",
    "\n",
    "fr_125 = Froude(vel_125)\n",
    "fr_25 = Froude(vel_25)\n",
    "fr_50 = Froude(vel_50)"
   ]
  },
  {
   "cell_type": "markdown",
   "metadata": {},
   "source": [
    "#### Froude Graph"
   ]
  },
  {
   "cell_type": "code",
   "execution_count": 55,
   "metadata": {
    "scrolled": true
   },
   "outputs": [
    {
     "data": {
      "text/plain": [
       "<matplotlib.legend.Legend at 0x1fddf2af2e0>"
      ]
     },
     "execution_count": 55,
     "metadata": {},
     "output_type": "execute_result"
    },
    {
     "data": {
      "image/png": "[encoded data removed]",
      "text/plain": [
       "<Figure size 432x288 with 1 Axes>"
      ]
     },
     "metadata": {
      "needs_background": "light"
     },
     "output_type": "display_data"
    }
   ],
   "source": [
    "vel = [fr_125[1],fr_25[1],fr_50[1]]\n",
    "froude = [fr_125[0],fr_25[0],fr_50[0]]\n",
    "b, pcov = np.polyfit(vel, froude, 1, cov=True)\n",
    "p = np.poly1d(b)\n",
    "# create plot\n",
    "xs = np.linspace(0.06, 0.1, 10)\n",
    "ys = p(xs)\n",
    "plt.plot(vel,froude,'c*',label='True Data')\n",
    "plt.plot(xs,ys,'r-',label='Fit Line')\n",
    "plt.xlabel('Velocity (m/s)')\n",
    "plt.ylabel('Froude number')\n",
    "plt.title('Froude number over Velocity')\n",
    "plt.legend()"
   ]
  },
  {
   "cell_type": "markdown",
   "metadata": {},
   "source": [
    "## Froude vs Reynolds"
   ]
  },
  {
   "cell_type": "code",
   "execution_count": 61,
   "metadata": {},
   "outputs": [
    {
     "data": {
      "text/plain": [
       "[<matplotlib.lines.Line2D at 0x1fddf6797c0>]"
      ]
     },
     "execution_count": 61,
     "metadata": {},
     "output_type": "execute_result"
    },
    {
     "data": {
      "image/png": "[encoded data removed]",
      "text/plain": [
       "<Figure size 432x288 with 1 Axes>"
      ]
     },
     "metadata": {
      "needs_background": "light"
     },
     "output_type": "display_data"
    }
   ],
   "source": [
    "plt.plot(re_all,fr_all,'c*')"
   ]
  },
  {
   "cell_type": "code",
   "execution_count": 62,
   "metadata": {},
   "outputs": [
    {
     "data": {
      "text/plain": [
       "[0.9013093523756567,\n",
       " 0.8658247322033866,\n",
       " 0.8964109319823107,\n",
       " 0.8988534685817176,\n",
       " 0.868103218340764,\n",
       " 0.8330283408320462,\n",
       " 0.8330283408320462,\n",
       " 0.8309300326687413,\n",
       " 0.8309300326687413,\n",
       " 0.8658247322033866,\n",
       " 0.7743643731678177,\n",
       " 0.7463330836413808,\n",
       " 0.7234193486173033,\n",
       " 0.7463330836413808,\n",
       " 0.7202603121604592,\n",
       " 0.5036324014801379,\n",
       " 0.4916232831139945,\n",
       " 0.5044024816047252,\n",
       " 0.4938311721100155,\n",
       " 0.5028646691608084,\n",
       " 0.6368324767750778,\n",
       " 0.6189103620440718,\n",
       " 0.6368324767750778]"
      ]
     },
     "execution_count": 62,
     "metadata": {},
     "output_type": "execute_result"
    }
   ],
   "source": [
    "fr_all"
   ]
  },
  {
   "cell_type": "markdown",
   "metadata": {},
   "source": [
    "# Cleans all the data so it can be used in calculations"
   ]
  },
  {
   "cell_type": "code",
   "execution_count": 20,
   "metadata": {
    "scrolled": true
   },
   "outputs": [
    {
     "name": "stderr",
     "output_type": "stream",
     "text": [
      "<ipython-input-20-b0b64a6ad4c5>:51: RuntimeWarning: invalid value encountered in double_scalars\n",
      "  t = (R**2 / a**2) * ((2*(i/1000))/9.81)**(1/2)\n",
      "<ipython-input-20-b0b64a6ad4c5>:52: RuntimeWarning: invalid value encountered in double_scalars\n",
      "  v = (2*9.81*(i/1000)*(dens/1000))**(1/2)\n"
     ]
    }
   ],
   "source": [
    "class clean:\n",
    "    R = 0.05 #3 cm radius of cylinder\n",
    "    a = 0.001 #1 mm radius hole on bottom\n",
    "    #the above cannot be referenced in the child function for some\n",
    "    #strange reason\n",
    "\n",
    "    def __init__(self,df,columns): \n",
    "    \n",
    "        self.df = df\n",
    "        self.columns = columns #should be df.columns[2]\n",
    "        self.time = []\n",
    "        self.height = []\n",
    "        self.time_predic = []\n",
    "        self.height_predic = []\n",
    "        self.velocity = []\n",
    "        self.velocity1 = []\n",
    "        self.time1= []\n",
    "    \n",
    "    def clean(self):\n",
    "        for i in self.df.index:\n",
    "            if (i%2 == 0):\n",
    "                self.time.append(self.df[self.columns][i]/1000) #get to seconds \n",
    "            if (i%2 == 1):\n",
    "                #scale linearly with y-intercept = 205, x = 155/175\n",
    "                reverse = (self.df[self.columns][i] - 205) * (155/175) \n",
    "                #155 = max height, must reverse height data so that it goes down instead of up witht ime\n",
    "                correct = 155 - reverse\n",
    "                self.height.append(correct)\n",
    "        return(self.time, self.height)\n",
    "    #the below function is not correct, do not use it\n",
    "    def tor_velc(self,R,r):\n",
    "        a = 0\n",
    "        for i in range(len(self.height)):\n",
    "            if (a == 0):\n",
    "                a += 1\n",
    "            if (a > 0 and a < 360):\n",
    "                a += 1\n",
    "                q = (self.height[i-1]/1000-self.height[i]/1000)*(np.pi * R**2)/(self.time[i]-self.time[i-1])\n",
    "                v = q / (np.pi*r**2)\n",
    "                t = self.time[i]\n",
    "            if (a > 360):\n",
    "                break\n",
    "            if (v>0):\n",
    "                self.velocity1.append(v)\n",
    "                self.time1.append(t)\n",
    "        return(np.array(self.velocity1),np.array(self.time1))\n",
    "    \n",
    "    #uses the toricelli equation to find the time given the height\n",
    "    def toricelli_height(self,R,a,dens):\n",
    "        for i in self.height:\n",
    "            t = (R**2 / a**2) * ((2*(i/1000))/9.81)**(1/2)\n",
    "            v = (2*9.81*(i/1000)*(dens/1000))**(1/2)\n",
    "            self.time_predic.append(t)\n",
    "            self.velocity.append(v)\n",
    "        return(np.array(self.time_predic),np.array(self.velocity))\n",
    "    #uses the toricelli equation to find the height given the time\n",
    "    def toricelli_time(self,R,a):\n",
    "        for i in self.time:\n",
    "            h = (i * (a**2)/(R**2))**2 * (9.81/2) \n",
    "            h_1 = h * 1000\n",
    "            self.height_predic.append(h_1)\n",
    "        return(np.array(self.height_predic))\n",
    "    #finds the velocity of the fluid leaving the toricelli tube\n",
    "    def velocity(self,R,a):\n",
    "        for i in range(len(self.height)):\n",
    "            v = (2*9.81*self.height[i])**(1/2)\n",
    "            self.velocity.append(v)\n",
    "        return(np.array(self.velocity))\n",
    "\n",
    "water_1 = clean(water_one,water_one.columns[2]) #'208'\n",
    "water_2 = clean(water_two,water_two.columns[2])\n",
    "water_3 = clean(water_three,water_three.columns[2])\n",
    "water_4 = clean(water_four,water_four.columns[2])\n",
    "die_water_1 = clean(die_water,die_water.columns[2])\n",
    "paper_water_1 = clean(paper_water_one,paper_water_one.columns[2])\n",
    "paper_water_2 = clean(paper_water_two,paper_water_two.columns[2])\n",
    "data_125_1 = clean(syrup_125_1,syrup_125_1.columns[2])\n",
    "data_125_2 = clean(syrup_125_2,syrup_125_2.columns[2])\n",
    "data_125_3 = clean(syrup_125_3,syrup_125_3.columns[2])\n",
    "data_25_1 = clean(syrup_25_1,syrup_25_1.columns[2])\n",
    "data_25_2 = clean(syrup_25_2,syrup_25_2.columns[2])\n",
    "data_25_3 = clean(syrup_25_3,syrup_25_3.columns[2])\n",
    "data_50_1 = clean(syrup_50_1,syrup_50_1.columns[2])\n",
    "data_50_2 = clean(syrup_50_2,syrup_50_2.columns[2])\n",
    "data_50_3 = clean(syrup_50_3,syrup_50_3.columns[2])\n",
    "\n",
    "water_2.clean()\n",
    "water_1.clean()\n",
    "water_3.clean()\n",
    "water_4.clean()\n",
    "die_water_1.clean()\n",
    "paper_water_1.clean()\n",
    "paper_water_2.clean()\n",
    "data_125_1.clean()\n",
    "data_125_2.clean()\n",
    "data_125_3.clean()\n",
    "data_25_1.clean()\n",
    "data_25_2.clean()\n",
    "data_25_3.clean()\n",
    "data_50_1.clean()\n",
    "data_50_2.clean()\n",
    "data_50_3.clean()\n",
    "\n",
    "R = 0.025\n",
    "a = 0.001\n",
    "\n",
    "water_2_height_prediction = water_2.toricelli_height(R,a,dens_125)\n",
    "water_1_height_prediction = water_1.toricelli_height(R,a,dens_125)\n",
    "water_3_height_prediction = water_3.toricelli_height(R,a,dens_125)\n",
    "water_4_height_prediction = water_4.toricelli_height(R,a,dens_125)\n",
    "die_water_1_height_prediction = die_water_1.toricelli_height(R,a,dens_125)\n",
    "paper_water_1_height_prediction = paper_water_1.toricelli_height(R,a,dens_125)\n",
    "paper_water_2_height_predition = paper_water_2.toricelli_height(R,a,dens_125)\n",
    "data_125_1_h_p = data_125_1.toricelli_height(R,a,dens_125)\n",
    "data_25_1_h_p = data_25_1.toricelli_height(R,a,dens_25)\n",
    "data_50_1_h_p = data_50_1.toricelli_height(R,a,dens_50)\n",
    "\n",
    "\n",
    "water_2_time_prediction = water_2.toricelli_time(R,a)\n",
    "water_1_time_prediction = water_1.toricelli_time(R,a)\n",
    "water_3_time_prediction = water_3.toricelli_time(R,a)\n",
    "water_4_time_prediction = water_4.toricelli_time(R,a)\n",
    "die_water_1_time_prediction = die_water_1.toricelli_time(R,a)\n",
    "paper_water_1_time_prediction = paper_water_1.toricelli_time(R,a)\n",
    "paper_water_2_time_prediction = paper_water_2.toricelli_time(R,a)\n",
    "data_125_1_t_p = data_125_1.toricelli_time(R,a)\n",
    "data_25_1_t_p = data_25_1.toricelli_time(R,a)\n",
    "data_50_1_t_p = data_50_1.toricelli_time(R,a)\n",
    "\n",
    "data_50_v = data_50_1.tor_velc(R,a)\n",
    "data_25_v = data_25_3.tor_velc(R,a)\n",
    "data_125_v = data_125_1.tor_velc(R,a)\n",
    "\n",
    "#water_2_velocity = water_2.velocity(R,a)\n",
    "#water_1_velocity = water_1.velocity(R,a)\n",
    "#print(data_125_1_h_p[1])"
   ]
  },
  {
   "cell_type": "code",
   "execution_count": 57,
   "metadata": {
    "scrolled": true
   },
   "outputs": [
    {
     "name": "stdout",
     "output_type": "stream",
     "text": [
      "[-0.03889437  6.88387379]\n"
     ]
    },
    {
     "data": {
      "image/png": "[encoded data removed]",
      "text/plain": [
       "<Figure size 432x288 with 1 Axes>"
      ]
     },
     "metadata": {
      "needs_background": "light"
     },
     "output_type": "display_data"
    }
   ],
   "source": [
    "data_125_vel = data_125_v[0]\n",
    "data_125_ti = data_125_v[1]\n",
    "data_25_vel = data_25_v[0]\n",
    "data_25_ti = data_25_v[1]\n",
    "data_50_vel = data_50_v[0]\n",
    "data_50_ti = data_50_v[1]\n",
    "\n",
    "b1, pcov1 = np.polyfit(data_125_ti, data_125_vel, 1, cov=True)\n",
    "p1 = np.poly1d(b1)\n",
    "xs1 = np.linspace(0, 80, 20)\n",
    "ys1 = p1(xs1)\n",
    "\n",
    "b2, pcov2 = np.polyfit(data_25_ti, data_25_vel, 1, cov=True)\n",
    "p2 = np.poly1d(b2)\n",
    "xs2 = np.linspace(0, 80, 20)\n",
    "ys2 = p2(xs2)\n",
    "\n",
    "b3, pcov = np.polyfit(data_50_ti, data_50_vel, 1, cov=True)\n",
    "p3 = np.poly1d(b3)\n",
    "xs3 = np.linspace(0, 80, 20)\n",
    "ys3 = p3(xs3)\n",
    "\n",
    "plt.plot(xs1,ys1,'r',label='12.5%')\n",
    "plt.plot(xs2,ys2,'g',label='25%')\n",
    "plt.plot(xs3,ys3,'c',label='50%')\n",
    "plt.xlabel('Time (s)')\n",
    "plt.ylabel('Velocity (m/s)')\n",
    "plt.title('Velocity vs Time for varius Corn Syrup Mixtures')\n",
    "plt.legend(loc='upper right')\n",
    "\n",
    "print(b1)"
   ]
  },
  {
   "cell_type": "markdown",
   "metadata": {},
   "source": [
    "#### Time vs Velocity"
   ]
  },
  {
   "cell_type": "code",
   "execution_count": 24,
   "metadata": {
    "scrolled": true
   },
   "outputs": [
    {
     "data": {
      "text/plain": [
       "<matplotlib.legend.Legend at 0x1fddf21aac0>"
      ]
     },
     "execution_count": 24,
     "metadata": {},
     "output_type": "execute_result"
    },
    {
     "data": {
      "image/png": "[encoded data removed]",
      "text/plain": [
       "<Figure size 432x288 with 1 Axes>"
      ]
     },
     "metadata": {
      "needs_background": "light"
     },
     "output_type": "display_data"
    }
   ],
   "source": [
    "plt.plot(data_125_1.time[:-1],data_125_1_h_p[1],'r',label='12.5%')\n",
    "plt.plot(data_25_1.time[:-1],data_25_1_h_p[1],'g',label='25%')\n",
    "plt.plot(data_50_1.time[:-1],data_50_1_h_p[1],'c',label='50%')\n",
    "plt.xlabel('Time (s)')\n",
    "plt.ylabel('Velocity (m/s)')\n",
    "plt.title('Velocity vs Time for varius Corn Syrup Mixtures')\n",
    "plt.legend(loc='upper right')"
   ]
  },
  {
   "cell_type": "markdown",
   "metadata": {},
   "source": [
    "#### Height vs velocity"
   ]
  },
  {
   "cell_type": "code",
   "execution_count": 25,
   "metadata": {
    "scrolled": true
   },
   "outputs": [
    {
     "data": {
      "text/plain": [
       "[<matplotlib.lines.Line2D at 0x1fddf28fe50>]"
      ]
     },
     "execution_count": 25,
     "metadata": {},
     "output_type": "execute_result"
    },
    {
     "data": {
      "image/png": "[encoded data removed]",
      "text/plain": [
       "<Figure size 432x288 with 1 Axes>"
      ]
     },
     "metadata": {
      "needs_background": "light"
     },
     "output_type": "display_data"
    }
   ],
   "source": [
    "plt.plot(data_125_1.height,data_125_1_h_p[1],'c-')\n",
    "plt.plot(data_25_1.height,data_25_1_h_p[1],'r-')\n",
    "plt.plot(data_50_1.height,data_50_1_h_p[1],'g-')"
   ]
  },
  {
   "cell_type": "markdown",
   "metadata": {},
   "source": [
    "#### 12.5% Graphs"
   ]
  },
  {
   "cell_type": "code",
   "execution_count": 26,
   "metadata": {
    "scrolled": true
   },
   "outputs": [
    {
     "data": {
      "text/plain": [
       "<matplotlib.legend.Legend at 0x1fddf2c7370>"
      ]
     },
     "execution_count": 26,
     "metadata": {},
     "output_type": "execute_result"
    },
    {
     "data": {
      "image/png": "[encoded data removed]",
      "text/plain": [
       "<Figure size 432x288 with 1 Axes>"
      ]
     },
     "metadata": {
      "needs_background": "light"
     },
     "output_type": "display_data"
    }
   ],
   "source": [
    "plt.plot(data_125_1.height,data_125_1.time[:-1],'r-',label='Actual')\n",
    "plt.xlabel('Time(s)')\n",
    "plt.ylabel('Height(mm)')\n",
    "plt.plot(data_125_1.height,data_125_1_t_p[:-1],'c-',label='Predicted')\n",
    "plt.title('12.5% vs predicted')\n",
    "plt.legend()"
   ]
  },
  {
   "cell_type": "code",
   "execution_count": null,
   "metadata": {
    "scrolled": true
   },
   "outputs": [],
   "source": []
  }
 ],
 "metadata": {
  "kernelspec": {
   "display_name": "Python 3",
   "language": "python",
   "name": "python3"
  },
  "language_info": {
   "codemirror_mode": {
    "name": "ipython",
    "version": 3
   },
   "file_extension": ".py",
   "mimetype": "text/x-python",
   "name": "python",
   "nbconvert_exporter": "python",
   "pygments_lexer": "ipython3",
   "version": "3.8.5"
  }
 },
 "nbformat": 4,
 "nbformat_minor": 4
}
