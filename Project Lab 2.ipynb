{
 "cells": [
  {
   "cell_type": "code",
   "execution_count": 23,
   "metadata": {},
   "outputs": [],
   "source": [
    "import numpy as np\n",
    "from scipy.optimize import fsolve\n",
    "import scipy\n",
    "import pandas as pd"
   ]
  },
  {
   "cell_type": "markdown",
   "metadata": {},
   "source": [
    "## Data"
   ]
  },
  {
   "cell_type": "code",
   "execution_count": 24,
   "metadata": {},
   "outputs": [],
   "source": [
    "df = pd.DataFrame({'time':time,\n",
    "                  'Trial 1 NF I':T_1_NF_I,\n",
    "                  'Trial 1 NF O':T_1_NF_O,\n",
    "                  'Trial 2 NF I':T_2_NF_I,\n",
    "                  'Trial 2 NF O':T_2_NF_O,\n",
    "                    'Trial 3 NF I':T_3_NF_I,\n",
    "                  'Trial 3 NF O':T_3_NF_O,\n",
    "                  'Trial 1 F I':T_1_F_I,\n",
    "                  'Trial 1 F O':T_1_F_O,\n",
    "                  'Trial 2 F I':T_2_F_I,\n",
    "                  'Trial 2 F O':T_2_F_O,\n",
    "                  'Trial 3 F I':T_3_F_I,\n",
    "                  'Trial 3 F O':T_3_F_O,})\n",
    "\n",
    "time = [1,2,3,4,5,6,7,8,9,10] #in minutes\n",
    "T_1_NF_inf = 23.9\n",
    "T_1_NF_O = [47,39.9,41.0,47.9,56.6,55,60.5,51.8,50.6,60.0]\n",
    "T_1_NF_I = [76.8,77.8,78,74,73,75,73,73.8,73.9,71]\n",
    "T_2_NF_inf = 24.7\n",
    "T_2_NF_O = [49.0,50.2,54.2,52.8,57.9,58.9,59.2,58.6,55.5,57.2]\n",
    "T_2_NF_I = [76.7,77.7,74.5,74.2,73.7,72.6,72.0,71.3,70.7,70.7]\n",
    "T_3_NF_inf = 24.5\n",
    "T_3_NF_O = [48.5,51.6,51.0,56.6,53.0,57.1,50.1,57.2,48.3,59.3]\n",
    "T_3_NF_I = [76.2,75.2,74.5,74.0,74.1,72.8,74,72.3,74,70.9]\n",
    "T_1_F_inf = 24.2\n",
    "T_1_F_O = [46.7,47.4,47.9,47.9,46.5,46.8,42.1,42.8,44.4,35.6]\n",
    "T_1_F_I = [75.1,73.2,71.6,70.2,69,67.8,67.2,66.7,64.5,67.3]\n",
    "#Trial 2 with Fan had very big varying outside temp\n",
    "T_2_F_inf = 27.2\n",
    "T_2_F_O = [44,30.2,43,38.4,42.2,36.3,39.6,38.4,46,30.9]\n",
    "T_2_F_I = [76.3,77.7,75.0,71,70.9,72.5,69.0,68.3,65.3,68.1]\n",
    "T_3_F_inf = 28.2\n",
    "T_3_F_O = [28.6,29.5,31.0,30.6,33,30.6,30.7,33.2,30.7,35.5]\n",
    "T_3_F_I = [82.1,80.0,78.6,77.6,71.6,75.1,73.5,74.0,68.5,69.1]"
   ]
  },
  {
   "cell_type": "code",
   "execution_count": 25,
   "metadata": {},
   "outputs": [
    {
     "data": {
      "text/html": [
       "<div>\n",
       "<style scoped>\n",
       "    .dataframe tbody tr th:only-of-type {\n",
       "        vertical-align: middle;\n",
       "    }\n",
       "\n",
       "    .dataframe tbody tr th {\n",
       "        vertical-align: top;\n",
       "    }\n",
       "\n",
       "    .dataframe thead th {\n",
       "        text-align: right;\n",
       "    }\n",
       "</style>\n",
       "<table border=\"1\" class=\"dataframe\">\n",
       "  <thead>\n",
       "    <tr style=\"text-align: right;\">\n",
       "      <th></th>\n",
       "      <th>time</th>\n",
       "      <th>Trial 1 NF I</th>\n",
       "      <th>Trial 1 NF O</th>\n",
       "      <th>Trial 2 NF I</th>\n",
       "      <th>Trial 2 NF O</th>\n",
       "      <th>Trial 3 NF I</th>\n",
       "      <th>Trial 3 NF O</th>\n",
       "      <th>Trial 1 F I</th>\n",
       "      <th>Trial 1 F O</th>\n",
       "      <th>Trial 2 F I</th>\n",
       "      <th>Trial 2 F O</th>\n",
       "      <th>Trial 3 F I</th>\n",
       "      <th>Trial 3 F O</th>\n",
       "    </tr>\n",
       "  </thead>\n",
       "  <tbody>\n",
       "    <tr>\n",
       "      <th>0</th>\n",
       "      <td>1</td>\n",
       "      <td>76.8</td>\n",
       "      <td>47.0</td>\n",
       "      <td>76.7</td>\n",
       "      <td>49.0</td>\n",
       "      <td>76.2</td>\n",
       "      <td>48.5</td>\n",
       "      <td>75.1</td>\n",
       "      <td>46.7</td>\n",
       "      <td>76.3</td>\n",
       "      <td>44.0</td>\n",
       "      <td>82.1</td>\n",
       "      <td>28.6</td>\n",
       "    </tr>\n",
       "    <tr>\n",
       "      <th>1</th>\n",
       "      <td>2</td>\n",
       "      <td>77.8</td>\n",
       "      <td>39.9</td>\n",
       "      <td>77.7</td>\n",
       "      <td>50.2</td>\n",
       "      <td>75.2</td>\n",
       "      <td>51.6</td>\n",
       "      <td>73.2</td>\n",
       "      <td>47.4</td>\n",
       "      <td>77.7</td>\n",
       "      <td>30.2</td>\n",
       "      <td>80.0</td>\n",
       "      <td>29.5</td>\n",
       "    </tr>\n",
       "    <tr>\n",
       "      <th>2</th>\n",
       "      <td>3</td>\n",
       "      <td>78.0</td>\n",
       "      <td>41.0</td>\n",
       "      <td>74.5</td>\n",
       "      <td>54.2</td>\n",
       "      <td>74.5</td>\n",
       "      <td>51.0</td>\n",
       "      <td>71.6</td>\n",
       "      <td>47.9</td>\n",
       "      <td>75.0</td>\n",
       "      <td>43.0</td>\n",
       "      <td>78.6</td>\n",
       "      <td>31.0</td>\n",
       "    </tr>\n",
       "    <tr>\n",
       "      <th>3</th>\n",
       "      <td>4</td>\n",
       "      <td>74.0</td>\n",
       "      <td>47.9</td>\n",
       "      <td>74.2</td>\n",
       "      <td>52.8</td>\n",
       "      <td>74.0</td>\n",
       "      <td>56.6</td>\n",
       "      <td>70.2</td>\n",
       "      <td>47.9</td>\n",
       "      <td>71.0</td>\n",
       "      <td>38.4</td>\n",
       "      <td>77.6</td>\n",
       "      <td>30.6</td>\n",
       "    </tr>\n",
       "    <tr>\n",
       "      <th>4</th>\n",
       "      <td>5</td>\n",
       "      <td>73.0</td>\n",
       "      <td>56.6</td>\n",
       "      <td>73.7</td>\n",
       "      <td>57.9</td>\n",
       "      <td>74.1</td>\n",
       "      <td>53.0</td>\n",
       "      <td>69.0</td>\n",
       "      <td>46.5</td>\n",
       "      <td>70.9</td>\n",
       "      <td>42.2</td>\n",
       "      <td>71.6</td>\n",
       "      <td>33.0</td>\n",
       "    </tr>\n",
       "    <tr>\n",
       "      <th>5</th>\n",
       "      <td>6</td>\n",
       "      <td>75.0</td>\n",
       "      <td>55.0</td>\n",
       "      <td>72.6</td>\n",
       "      <td>58.9</td>\n",
       "      <td>72.8</td>\n",
       "      <td>57.1</td>\n",
       "      <td>67.8</td>\n",
       "      <td>46.8</td>\n",
       "      <td>72.5</td>\n",
       "      <td>36.3</td>\n",
       "      <td>75.1</td>\n",
       "      <td>30.6</td>\n",
       "    </tr>\n",
       "    <tr>\n",
       "      <th>6</th>\n",
       "      <td>7</td>\n",
       "      <td>73.0</td>\n",
       "      <td>60.5</td>\n",
       "      <td>72.0</td>\n",
       "      <td>59.2</td>\n",
       "      <td>74.0</td>\n",
       "      <td>50.1</td>\n",
       "      <td>67.2</td>\n",
       "      <td>42.1</td>\n",
       "      <td>69.0</td>\n",
       "      <td>39.6</td>\n",
       "      <td>73.5</td>\n",
       "      <td>30.7</td>\n",
       "    </tr>\n",
       "    <tr>\n",
       "      <th>7</th>\n",
       "      <td>8</td>\n",
       "      <td>73.8</td>\n",
       "      <td>51.8</td>\n",
       "      <td>71.3</td>\n",
       "      <td>58.6</td>\n",
       "      <td>72.3</td>\n",
       "      <td>57.2</td>\n",
       "      <td>66.7</td>\n",
       "      <td>42.8</td>\n",
       "      <td>68.3</td>\n",
       "      <td>38.4</td>\n",
       "      <td>74.0</td>\n",
       "      <td>33.2</td>\n",
       "    </tr>\n",
       "    <tr>\n",
       "      <th>8</th>\n",
       "      <td>9</td>\n",
       "      <td>73.9</td>\n",
       "      <td>50.6</td>\n",
       "      <td>70.7</td>\n",
       "      <td>55.5</td>\n",
       "      <td>74.0</td>\n",
       "      <td>48.3</td>\n",
       "      <td>64.5</td>\n",
       "      <td>44.4</td>\n",
       "      <td>65.3</td>\n",
       "      <td>46.0</td>\n",
       "      <td>68.5</td>\n",
       "      <td>30.7</td>\n",
       "    </tr>\n",
       "    <tr>\n",
       "      <th>9</th>\n",
       "      <td>10</td>\n",
       "      <td>71.0</td>\n",
       "      <td>60.0</td>\n",
       "      <td>70.7</td>\n",
       "      <td>57.2</td>\n",
       "      <td>70.9</td>\n",
       "      <td>59.3</td>\n",
       "      <td>67.3</td>\n",
       "      <td>35.6</td>\n",
       "      <td>68.1</td>\n",
       "      <td>30.9</td>\n",
       "      <td>69.1</td>\n",
       "      <td>35.5</td>\n",
       "    </tr>\n",
       "  </tbody>\n",
       "</table>\n",
       "</div>"
      ],
      "text/plain": [
       "   time  Trial 1 NF I  Trial 1 NF O  Trial 2 NF I  Trial 2 NF O  Trial 3 NF I  \\\n",
       "0     1          76.8          47.0          76.7          49.0          76.2   \n",
       "1     2          77.8          39.9          77.7          50.2          75.2   \n",
       "2     3          78.0          41.0          74.5          54.2          74.5   \n",
       "3     4          74.0          47.9          74.2          52.8          74.0   \n",
       "4     5          73.0          56.6          73.7          57.9          74.1   \n",
       "5     6          75.0          55.0          72.6          58.9          72.8   \n",
       "6     7          73.0          60.5          72.0          59.2          74.0   \n",
       "7     8          73.8          51.8          71.3          58.6          72.3   \n",
       "8     9          73.9          50.6          70.7          55.5          74.0   \n",
       "9    10          71.0          60.0          70.7          57.2          70.9   \n",
       "\n",
       "   Trial 3 NF O  Trial 1 F I  Trial 1 F O  Trial 2 F I  Trial 2 F O  \\\n",
       "0          48.5         75.1         46.7         76.3         44.0   \n",
       "1          51.6         73.2         47.4         77.7         30.2   \n",
       "2          51.0         71.6         47.9         75.0         43.0   \n",
       "3          56.6         70.2         47.9         71.0         38.4   \n",
       "4          53.0         69.0         46.5         70.9         42.2   \n",
       "5          57.1         67.8         46.8         72.5         36.3   \n",
       "6          50.1         67.2         42.1         69.0         39.6   \n",
       "7          57.2         66.7         42.8         68.3         38.4   \n",
       "8          48.3         64.5         44.4         65.3         46.0   \n",
       "9          59.3         67.3         35.6         68.1         30.9   \n",
       "\n",
       "   Trial 3 F I  Trial 3 F O  \n",
       "0         82.1         28.6  \n",
       "1         80.0         29.5  \n",
       "2         78.6         31.0  \n",
       "3         77.6         30.6  \n",
       "4         71.6         33.0  \n",
       "5         75.1         30.6  \n",
       "6         73.5         30.7  \n",
       "7         74.0         33.2  \n",
       "8         68.5         30.7  \n",
       "9         69.1         35.5  "
      ]
     },
     "execution_count": 25,
     "metadata": {},
     "output_type": "execute_result"
    }
   ],
   "source": [
    "df"
   ]
  },
  {
   "cell_type": "markdown",
   "metadata": {},
   "source": [
    "## Adiabatic Solved"
   ]
  },
  {
   "cell_type": "markdown",
   "metadata": {},
   "source": [
    "#### Solves for m"
   ]
  },
  {
   "cell_type": "code",
   "execution_count": 33,
   "metadata": {},
   "outputs": [
    {
     "data": {
      "text/plain": [
       "array([16.62291243])"
      ]
     },
     "execution_count": 33,
     "metadata": {},
     "output_type": "execute_result"
    }
   ],
   "source": [
    "T_inf_T = T_3_F_inf\n",
    "T_I_T = T_3_F_I[9]\n",
    "T_O_T = T_3_F_O[9]\n",
    "\n",
    "#solve for m\n",
    "def M_adiabatic(m):\n",
    "    T_inf = T_inf_T\n",
    "    T_b = T_I_T\n",
    "    T = T_O_T\n",
    "    d = 0.009525\n",
    "    L = 0.1524\n",
    "    x = 0.12192\n",
    "    P = ((d/2)**2)*np.pi\n",
    "    A_c = 7.1255 * 10**-5\n",
    "    k = 398\n",
    "    #m = ((h*P)/k*A_c)**(1/2)\n",
    "    m_calc = ((np.cosh(m*(L-x)))/(np.cosh(m*L))) - ((T-T_inf)/(T_b-T_inf))\n",
    "    return m_calc\n",
    "\n",
    "m_calc = fsolve(M_adiabatic,4)\n",
    "m_calc"
   ]
  },
  {
   "cell_type": "markdown",
   "metadata": {},
   "source": [
    "#### Solves for h from m"
   ]
  },
  {
   "cell_type": "code",
   "execution_count": 20,
   "metadata": {},
   "outputs": [
    {
     "data": {
      "text/plain": [
       "array([268.21300333])"
      ]
     },
     "execution_count": 20,
     "metadata": {},
     "output_type": "execute_result"
    }
   ],
   "source": [
    "#solves for heat transfer coefficient\n",
    "def H_adiabatic(h):\n",
    "    T_inf = T_inf_T\n",
    "    T_b = T_I_T\n",
    "    T = T_O_T\n",
    "    d = 0.009525\n",
    "    L = 0.1524\n",
    "    x = 0.12192\n",
    "    P = ((d/2)**2)*np.pi\n",
    "    A_c = 7.1255 * 10**-5\n",
    "    k = 398\n",
    "    h_calc = ((h*2*np.pi*(0.0093/2))/(398*A_c))**(1/2) - m_calc\n",
    "    return h_calc\n",
    "\n",
    "h_calc = fsolve(H_adiabatic,3)\n",
    "h_calc"
   ]
  },
  {
   "cell_type": "code",
   "execution_count": 22,
   "metadata": {},
   "outputs": [],
   "source": [
    "h_NF = [25.48,34.26,27.77] #in order of the three trials\n",
    "q_NF = [0.001898,0.002522,0.002053] #in order of the three trials as well\n",
    "h_F = [183.1,454.6,268.2]\n",
    "q_f = [0.01301,0.03129,0.01853]"
   ]
  },
  {
   "cell_type": "markdown",
   "metadata": {},
   "source": [
    "#### Finds q using h"
   ]
  },
  {
   "cell_type": "code",
   "execution_count": 27,
   "metadata": {},
   "outputs": [
    {
     "data": {
      "text/plain": [
       "(array([0.11850873]), array([0.82091961]), array([0.95218724]))"
      ]
     },
     "execution_count": 27,
     "metadata": {},
     "output_type": "execute_result"
    }
   ],
   "source": [
    "def q(h):\n",
    "    d = 0.009525\n",
    "    L = 0.1524\n",
    "    T_inf = T_inf_T\n",
    "    T_b = T_I_T\n",
    "    T = T_O_T\n",
    "    A_c = 7.1255 * 10**-5\n",
    "    k = 398\n",
    "    P = ((d/2)**2)*np.pi\n",
    "    m = ((h*P)/(k*A_c))**(1/2)\n",
    "    M = ((h*P*k*A_c)**(1/2))*(T_b-T_inf)\n",
    "    q = M * (np.tanh(m*L))\n",
    "    return q, m, M\n",
    "\n",
    "q(h_calc)"
   ]
  },
  {
   "cell_type": "markdown",
   "metadata": {},
   "source": [
    "## With Wind"
   ]
  },
  {
   "cell_type": "code",
   "execution_count": 40,
   "metadata": {},
   "outputs": [
    {
     "data": {
      "text/plain": [
       "array([68331.46799208])"
      ]
     },
     "execution_count": 40,
     "metadata": {},
     "output_type": "execute_result"
    }
   ],
   "source": [
    "T_inf_TF = T_3_F_inf\n",
    "T_O_TF = T_3_F_O[9]\n",
    "T_I_TF = T_3_F_I[9]\n",
    "\n",
    "def H_wind(h):\n",
    "    T_inf = T_inf_TF\n",
    "    T_b = T_I_TF\n",
    "    T = T_O_TF\n",
    "    d = 0.009525\n",
    "    L = 0.1524\n",
    "    x = 0.12192\n",
    "    P = ((d/2)**2)*np.pi\n",
    "    A_c = 7.1255 * 10**-5\n",
    "    k = 398\n",
    "    m = ((h*P)/(k*A_c))**(1/2)\n",
    "    h_calc = (np.cosh(m*L) + (h/(m*k))*np.sinh(m*(L-x)))/(np.cosh(m*L)+(h/(m*k))*np.sinh(m*L)) - ((T-T_inf)/(T_b-T_inf))\n",
    "    return h_calc\n",
    "\n",
    "h_calc = fsolve(H_wind,10)\n",
    "h_calc"
   ]
  },
  {
   "cell_type": "markdown",
   "metadata": {},
   "source": [
    "## Heat Exchanger Calcs"
   ]
  },
  {
   "cell_type": "code",
   "execution_count": 45,
   "metadata": {},
   "outputs": [
    {
     "data": {
      "text/plain": [
       "[15.67779828071635, 13.822798065955068, 17.890406624591364]"
      ]
     },
     "execution_count": 45,
     "metadata": {},
     "output_type": "execute_result"
    }
   ],
   "source": [
    "#The lists below will go like this:\n",
    "#trial number, flow rate, t_hot_in, t_hot_out, t_cold_in, t_cold_out\n",
    "m_3 = [[1,3,70.5,51.5,12.2,27],[2,3,70.8,54.3,13.4,29.6],[3,3,72.2,54,13.4,28.6]]\n",
    "m_2 = [[1,2,70.5,53.6,13,31],[2,2,71.8,55.8,14,32.8],[3,2,71,55.9,13.6,32.6]]\n",
    "m_1 = [[1,1,70.5,51.5,13.7,32.2],[2,1,71.5,52,15,37.1],[3,1,66.3,52.5,14.7,33.9]]\n",
    "m_4 = [[1,4,65,54.5,13.8,27.5],[2,4,71,55.9,13.4,28.8],[3,4,73,55.8,13.8,28]]\n",
    "m_05 = [[1,0.5,65,48.4,14.7,40.6],[2,0.5,71,48.4,15.3,40.5],[3,0.5,66,41.5,16,41.6]]\n",
    "\n",
    "def U_transfer(lst,A,lst_empty):\n",
    "    rho = 1000 #kg/m^3\n",
    "    m = (lst[0][1] * 0.001 * 1000)/60\n",
    "    cp = 4184\n",
    "    for i in range(len(lst)):\n",
    "        t_h_i = lst[i][2]\n",
    "        t_h_o = lst[i][3]\n",
    "        t_c_i = lst[i][4]\n",
    "        t_c_o = lst[i][5]\n",
    "        t_i = t_h_i - t_c_o\n",
    "        t_o = t_h_o - t_c_i\n",
    "        lmtd = (t_i - t_o)/(np.log(t_i/t_o))\n",
    "        U = (m*cp*(t_c_o-t_c_i))/(lmtd*A)\n",
    "        lst_empty.append(U)\n",
    "    return lst_empty\n",
    "\n",
    "U_3 = []\n",
    "U_2 = []\n",
    "U_05 = []\n",
    "\n",
    "U_transfer(m_3,2,U_3)\n",
    "U_transfer(m_2,2,U_2)\n",
    "U_transfer(m_05,2,U_05)\n"
   ]
  },
  {
   "cell_type": "code",
   "execution_count": 46,
   "metadata": {},
   "outputs": [
    {
     "data": {
      "text/plain": [
       "[37.42535711076293, 41.27959907370376, 37.78131334383664]"
      ]
     },
     "execution_count": 46,
     "metadata": {},
     "output_type": "execute_result"
    }
   ],
   "source": [
    "U_3"
   ]
  },
  {
   "cell_type": "code",
   "execution_count": 47,
   "metadata": {},
   "outputs": [
    {
     "data": {
      "text/plain": [
       "[31.342794389278755, 32.46316378079158, 32.86161702969652]"
      ]
     },
     "execution_count": 47,
     "metadata": {},
     "output_type": "execute_result"
    }
   ],
   "source": [
    "U_2"
   ]
  },
  {
   "cell_type": "code",
   "execution_count": 48,
   "metadata": {},
   "outputs": [
    {
     "data": {
      "text/plain": [
       "[15.67779828071635, 13.822798065955068, 17.890406624591364]"
      ]
     },
     "execution_count": 48,
     "metadata": {},
     "output_type": "execute_result"
    }
   ],
   "source": [
    "U_05"
   ]
  },
  {
   "cell_type": "code",
   "execution_count": null,
   "metadata": {},
   "outputs": [],
   "source": []
  }
 ],
 "metadata": {
  "kernelspec": {
   "display_name": "Python 3",
   "language": "python",
   "name": "python3"
  },
  "language_info": {
   "codemirror_mode": {
    "name": "ipython",
    "version": 3
   },
   "file_extension": ".py",
   "mimetype": "text/x-python",
   "name": "python",
   "nbconvert_exporter": "python",
   "pygments_lexer": "ipython3",
   "version": "3.8.5"
  }
 },
 "nbformat": 4,
 "nbformat_minor": 4
}
